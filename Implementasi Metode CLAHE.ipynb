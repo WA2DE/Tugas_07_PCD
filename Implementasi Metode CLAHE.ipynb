{
 "cells": [
  {
   "cell_type": "code",
   "execution_count": 2,
   "metadata": {},
   "outputs": [],
   "source": [
    "import cv2\n",
    "import numpy as np\n",
    "\n",
    "def clahe(image, block_size, clip_limit):\n",
    "    # Membagi citra menjadi blok-blok kecil\n",
    "    height, width = image.shape\n",
    "    blocks = np.split(image, height // block_size)  # Memisahkan citra menjadi blok-blok berdasarkan ukuran blok\n",
    "\n",
    "    # Mengaplikasikan histogram equalization pada setiap blok\n",
    "    for i in range(len(blocks)):\n",
    "        blocks[i] = cv2.equalizeHist(blocks[i])  # Melakukan histogram equalization pada setiap blok citra\n",
    "\n",
    "    # Menggabungkan kembali blok-blok gambar\n",
    "    output = np.concatenate(blocks)  # Menggabungkan blok-blok citra yang telah diubah histogramnya\n",
    "\n",
    "    # Menggunakan clip limit untuk membatasi kontras\n",
    "    output = np.clip(output, 0, clip_limit)  # Membatasi nilai piksel dalam rentang clip limit\n",
    "\n",
    "    return output\n",
    "\n",
    "# Membaca citra\n",
    "image = cv2.imread(\"mobil.tif\", 0)  # Membaca citra dalam mode grayscale\n",
    "\n",
    "# Mengaplikasikan CLAHE pada citra dengan parameter yang ditentukan\n",
    "output = clahe(image, block_size=8, clip_limit=2.0)  # Menggunakan fungsi CLAHE dengan ukuran blok dan batasan clip tertentu\n",
    "\n",
    "# Menampilkan citra asli dan hasil CLAHE\n",
    "cv2.imshow(\"Original Image\", image)  # Menampilkan citra asli\n",
    "cv2.imshow(\"CLAHE Output\", output)  # Menampilkan hasil CLAHE\n",
    "cv2.waitKey(0)  # Menunggu tombol kunci ditekan\n",
    "cv2.destroyAllWindows()  # Menutup jendela tampilan\n"
   ]
  }
 ],
 "metadata": {
  "kernelspec": {
   "display_name": "Python 3",
   "language": "python",
   "name": "python3"
  },
  "language_info": {
   "codemirror_mode": {
    "name": "ipython",
    "version": 3
   },
   "file_extension": ".py",
   "mimetype": "text/x-python",
   "name": "python",
   "nbconvert_exporter": "python",
   "pygments_lexer": "ipython3",
   "version": "3.11.0"
  },
  "orig_nbformat": 4
 },
 "nbformat": 4,
 "nbformat_minor": 2
}
